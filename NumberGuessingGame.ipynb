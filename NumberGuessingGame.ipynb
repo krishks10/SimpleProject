{
  "nbformat": 4,
  "nbformat_minor": 0,
  "metadata": {
    "colab": {
      "provenance": [],
      "authorship_tag": "ABX9TyNyq9+orf/I69go/6SCmHT2",
      "include_colab_link": true
    },
    "kernelspec": {
      "name": "python3",
      "display_name": "Python 3"
    },
    "language_info": {
      "name": "python"
    }
  },
  "cells": [
    {
      "cell_type": "markdown",
      "metadata": {
        "id": "view-in-github",
        "colab_type": "text"
      },
      "source": [
        "<a href=\"https://colab.research.google.com/github/krishks10/SimpleProject/blob/main/NumberGuessingGame.ipynb\" target=\"_parent\"><img src=\"https://colab.research.google.com/assets/colab-badge.svg\" alt=\"Open In Colab\"/></a>"
      ]
    },
    {
      "cell_type": "code",
      "execution_count": 5,
      "metadata": {
        "colab": {
          "base_uri": "https://localhost:8080/"
        },
        "id": "scBu3x_kxCd7",
        "outputId": "1e2503b7-d3d1-4bee-89e5-15f28f6fdfdd"
      },
      "outputs": [
        {
          "output_type": "stream",
          "name": "stdout",
          "text": [
            "Guess a number between 1 and 100: 111\n",
            "Too high!\n",
            "Guess a number between 1 and 100: 3333333333333333\n",
            "Too high!\n",
            "Guess a number between 1 and 100: ,bhgkfvbj\n",
            "Invalid input. Please enter a valid number.\n",
            "Guess a number between 1 and 100: 23\n",
            "Too low!\n",
            "Guess a number between 1 and 100: 59\n",
            "Too low!\n",
            "Guess a number between 1 and 100: 60\n",
            "Too low!\n",
            "Guess a number between 1 and 100: 90\n",
            "Too high!\n",
            "Guess a number between 1 and 100: 70\n",
            "Too high!\n",
            "Guess a number between 1 and 100: 69\n",
            "Too high!\n",
            "Guess a number between 1 and 100: 65\n",
            "Too high!\n",
            "Guess a number between 1 and 100: 64\n",
            "Too high!\n",
            "Guess a number between 1 and 100: 60\n",
            "Too low!\n",
            "Guess a number between 1 and 100: 61\n",
            "Congratulations! You guessed the number!\n"
          ]
        }
      ],
      "source": [
        "import random\n",
        "\n",
        "number_to_guess = random.randint(1, 100)\n",
        "while True:\n",
        "  try:\n",
        "    guess = int(input(\"Guess a number between 1 and 100: \"))\n",
        "\n",
        "    if guess < number_to_guess:\n",
        "      print(\"Too low!\")\n",
        "    elif guess > number_to_guess:\n",
        "      print(\"Too high!\")\n",
        "    else:\n",
        "      print(\"Congratulations! You guessed the number!\")\n",
        "      break\n",
        "  except ValueError:\n",
        "    print(\"Invalid input. Please enter a valid number.\")"
      ]
    },
    {
      "cell_type": "markdown",
      "source": [],
      "metadata": {
        "id": "v1TjuvQ8Wp3d"
      }
    }
  ]
}