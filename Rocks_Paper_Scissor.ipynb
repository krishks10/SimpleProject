{
  "nbformat": 4,
  "nbformat_minor": 0,
  "metadata": {
    "colab": {
      "provenance": [],
      "authorship_tag": "ABX9TyM4dxExhW5duVGkSHNnxBaP",
      "include_colab_link": true
    },
    "kernelspec": {
      "name": "python3",
      "display_name": "Python 3"
    },
    "language_info": {
      "name": "python"
    }
  },
  "cells": [
    {
      "cell_type": "markdown",
      "metadata": {
        "id": "view-in-github",
        "colab_type": "text"
      },
      "source": [
        "<a href=\"https://colab.research.google.com/github/krishks10/SimpleProject/blob/main/Rocks_Paper_Scissor.ipynb\" target=\"_parent\"><img src=\"https://colab.research.google.com/assets/colab-badge.svg\" alt=\"Open In Colab\"/></a>"
      ]
    },
    {
      "cell_type": "code",
      "execution_count": 1,
      "metadata": {
        "colab": {
          "base_uri": "https://localhost:8080/"
        },
        "id": "lA8ciForVEnw",
        "outputId": "2d510c86-4d79-46f8-8f68-1550ef92d43a"
      },
      "outputs": [
        {
          "name": "stdout",
          "output_type": "stream",
          "text": [
            "Rock, paper, or scissors? (r/p/s): j\n",
            "Invalid choice!\n",
            "Rock, paper, or scissors? (r/p/s): s\n",
            "You chose ✂️\n",
            "Computer chose ✂️\n",
            "Tie!\n",
            "Continue? (y/n): n\n"
          ]
        }
      ],
      "source": [
        "import random\n",
        "\n",
        "ROCK = 'r'\n",
        "SCISSORS = 's'\n",
        "PAPER = 'p'\n",
        "emojis = { ROCK: '🪨', SCISSORS: '✂️', PAPER: '📃' }\n",
        "choices = tuple(emojis.keys())\n",
        "\n",
        "def get_user_choice():\n",
        "  while True:\n",
        "    user_choice = input('Rock, paper, or scissors? (r/p/s): ').lower()\n",
        "    if user_choice in choices:\n",
        "      return user_choice\n",
        "    else:\n",
        "      print('Invalid choice!')\n",
        "\n",
        "def display_choices(user_choice, computer_choice):\n",
        "  print(f'You chose {emojis[user_choice]}')\n",
        "  print(f'Computer chose {emojis[computer_choice]}')\n",
        "\n",
        "\n",
        "def determine_winner(user_choice, computer_choice):\n",
        "  if user_choice == computer_choice:\n",
        "    print('Tie!')\n",
        "  elif (\n",
        "    (user_choice == ROCK and computer_choice == SCISSORS) or\n",
        "    (user_choice == SCISSORS and computer_choice == PAPER) or\n",
        "    (user_choice == PAPER and computer_choice == ROCK)):\n",
        "    print('You win')\n",
        "  else:\n",
        "    print('You lose')\n",
        "\n",
        "def play_game():\n",
        "  while True:\n",
        "    user_choice = get_user_choice()\n",
        "\n",
        "    computer_choice = random.choice(choices)\n",
        "\n",
        "    display_choices(user_choice, computer_choice)\n",
        "\n",
        "    determine_winner(user_choice, computer_choice)\n",
        "\n",
        "    should_continue = input('Continue? (y/n): ').lower()\n",
        "    if should_continue == 'n':\n",
        "      break\n",
        "\n",
        "play_game()"
      ]
    }
  ]
}