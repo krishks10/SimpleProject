{
  "nbformat": 4,
  "nbformat_minor": 0,
  "metadata": {
    "colab": {
      "provenance": [],
      "authorship_tag": "ABX9TyNjOim/WKpYQEa7kGmNAK+b",
      "include_colab_link": true
    },
    "kernelspec": {
      "name": "python3",
      "display_name": "Python 3"
    },
    "language_info": {
      "name": "python"
    }
  },
  "cells": [
    {
      "cell_type": "markdown",
      "metadata": {
        "id": "view-in-github",
        "colab_type": "text"
      },
      "source": [
        "<a href=\"https://colab.research.google.com/github/krishks10/SimpleProject/blob/main/IntroToNumpy.ipynb\" target=\"_parent\"><img src=\"https://colab.research.google.com/assets/colab-badge.svg\" alt=\"Open In Colab\"/></a>"
      ]
    },
    {
      "cell_type": "code",
      "source": [
        "tempreatures = [32.5, 31.8, 33.0, 35.2, 36.6]\n",
        "\n",
        "total = 0\n",
        "for temp in tempreatures:\n",
        "    total += temp\n",
        "average = total / len(tempreatures)\n",
        "print(average)"
      ],
      "metadata": {
        "colab": {
          "base_uri": "https://localhost:8080/"
        },
        "id": "kZevdZeRrXWz",
        "outputId": "3f42062e-30a7-47dc-8528-3699d596dd0a"
      },
      "execution_count": null,
      "outputs": [
        {
          "output_type": "stream",
          "name": "stdout",
          "text": [
            "33.82\n"
          ]
        }
      ]
    },
    {
      "cell_type": "code",
      "execution_count": null,
      "metadata": {
        "colab": {
          "base_uri": "https://localhost:8080/"
        },
        "id": "3EUJPgmQqCOq",
        "outputId": "176345a9-2d8d-4d71-938c-ba4e4a3a4184"
      },
      "outputs": [
        {
          "output_type": "stream",
          "name": "stdout",
          "text": [
            "33.82\n"
          ]
        }
      ],
      "source": [
        "import numpy as np\n",
        "\n",
        "tempreatures = np.array([32.5, 31.8, 33.0, 35.2, 36.6])\n",
        "average = np.mean(tempreatures)\n",
        "print(average)"
      ]
    },
    {
      "cell_type": "code",
      "source": [
        "python_list = [1, 2, 3, 4, 5]\n",
        "print(python_list)\n",
        "\n",
        "import numpy as np\n",
        "numpy_array = np.array([1, 2, 3, 4, 5])\n",
        "print(numpy_array)"
      ],
      "metadata": {
        "colab": {
          "base_uri": "https://localhost:8080/"
        },
        "id": "jdzAvLPlZNQ_",
        "outputId": "27260e23-bf04-49c7-caac-08744c50cc0f"
      },
      "execution_count": null,
      "outputs": [
        {
          "output_type": "stream",
          "name": "stdout",
          "text": [
            "[1, 2, 3, 4, 5]\n",
            "[1 2 3 4 5]\n"
          ]
        }
      ]
    },
    {
      "cell_type": "code",
      "source": [
        "mark1 = 85\n",
        "mark2 = 90\n",
        "mark3 = 95\n",
        "mark4 = 45\n",
        "marks = [85, 90, 95, 89]\n",
        "print(marks)"
      ],
      "metadata": {
        "colab": {
          "base_uri": "https://localhost:8080/"
        },
        "id": "IEZr-N5EhEsA",
        "outputId": "a827a9d9-c67b-4176-e693-96f3ee281986"
      },
      "execution_count": null,
      "outputs": [
        {
          "output_type": "stream",
          "name": "stdout",
          "text": [
            "[85, 90, 95, 89]\n"
          ]
        }
      ]
    },
    {
      "cell_type": "code",
      "source": [
        "import numpy as np\n",
        "ar_1d = np.array([10, 20, 30, 40, 50])\n",
        "\n",
        "print(ar_1d)"
      ],
      "metadata": {
        "colab": {
          "base_uri": "https://localhost:8080/"
        },
        "id": "lxenagDEhbD9",
        "outputId": "5014f3b5-61f2-4980-c753-be5f0b545225"
      },
      "execution_count": null,
      "outputs": [
        {
          "output_type": "stream",
          "name": "stdout",
          "text": [
            "[10 20 30 40 50]\n"
          ]
        }
      ]
    },
    {
      "cell_type": "code",
      "source": [
        "import numpy as np\n",
        "\n",
        "zeros_array = np.zeros(6)\n",
        "print(zeros_array)"
      ],
      "metadata": {
        "id": "r_g4NtfPvzyG",
        "colab": {
          "base_uri": "https://localhost:8080/"
        },
        "outputId": "d07ea3a0-9637-494d-d23b-5c7bdd8539e1"
      },
      "execution_count": null,
      "outputs": [
        {
          "output_type": "stream",
          "name": "stdout",
          "text": [
            "[0. 0. 0. 0. 0. 0.]\n"
          ]
        }
      ]
    },
    {
      "cell_type": "code",
      "source": [
        "import numpy as np\n",
        "\n",
        "ones_array = np.ones((3,6))\n",
        "print(ones_array)"
      ],
      "metadata": {
        "colab": {
          "base_uri": "https://localhost:8080/"
        },
        "id": "rGUL3VUbzTOv",
        "outputId": "0cfe8e57-0044-4b7a-fd20-8cce0ac900f2"
      },
      "execution_count": null,
      "outputs": [
        {
          "output_type": "stream",
          "name": "stdout",
          "text": [
            "[[1. 1. 1. 1. 1. 1.]\n",
            " [1. 1. 1. 1. 1. 1.]\n",
            " [1. 1. 1. 1. 1. 1.]]\n"
          ]
        }
      ]
    },
    {
      "cell_type": "code",
      "source": [
        "import numpy as np\n",
        "\n",
        "empty_array = np.empty((2,3))\n",
        "print(empty_array)"
      ],
      "metadata": {
        "id": "w_KQjpVizaxe",
        "colab": {
          "base_uri": "https://localhost:8080/"
        },
        "outputId": "7258491d-fb51-44e8-b01e-e60bb2ba823f"
      },
      "execution_count": 1,
      "outputs": [
        {
          "output_type": "stream",
          "name": "stdout",
          "text": [
            "[[5.13121675e-315 0.00000000e+000 0.00000000e+000]\n",
            " [0.00000000e+000 0.00000000e+000 0.00000000e+000]]\n"
          ]
        }
      ]
    },
    {
      "cell_type": "code",
      "source": [
        "import numpy as np\n",
        "\n",
        "identity_matrix = np.eye(9)\n",
        "print(identity_matrix)"
      ],
      "metadata": {
        "colab": {
          "base_uri": "https://localhost:8080/"
        },
        "id": "6M3InTCtoNqv",
        "outputId": "3b8fdc51-a29c-463c-f1c9-f175d285da07"
      },
      "execution_count": 3,
      "outputs": [
        {
          "output_type": "stream",
          "name": "stdout",
          "text": [
            "[[1. 0. 0. 0. 0. 0. 0. 0. 0.]\n",
            " [0. 1. 0. 0. 0. 0. 0. 0. 0.]\n",
            " [0. 0. 1. 0. 0. 0. 0. 0. 0.]\n",
            " [0. 0. 0. 1. 0. 0. 0. 0. 0.]\n",
            " [0. 0. 0. 0. 1. 0. 0. 0. 0.]\n",
            " [0. 0. 0. 0. 0. 1. 0. 0. 0.]\n",
            " [0. 0. 0. 0. 0. 0. 1. 0. 0.]\n",
            " [0. 0. 0. 0. 0. 0. 0. 1. 0.]\n",
            " [0. 0. 0. 0. 0. 0. 0. 0. 1.]]\n"
          ]
        }
      ]
    },
    {
      "cell_type": "code",
      "source": [
        "import numpy as np\n",
        "\n",
        "random_array = np.random.rand(3, 4)\n",
        "print(random_array)"
      ],
      "metadata": {
        "colab": {
          "base_uri": "https://localhost:8080/"
        },
        "id": "t782kXaWoji6",
        "outputId": "3770e283-dd75-4f0d-821b-c9af515f876c"
      },
      "execution_count": 4,
      "outputs": [
        {
          "output_type": "stream",
          "name": "stdout",
          "text": [
            "[[0.96571371 0.8697607  0.05852553 0.3048358 ]\n",
            " [0.09930967 0.20071093 0.62409482 0.61857917]\n",
            " [0.27824715 0.63516283 0.39552715 0.28022174]]\n"
          ]
        }
      ]
    },
    {
      "cell_type": "code",
      "source": [
        "import numpy as np\n",
        "\n",
        "arr_2d = np.array([[10, 20, 30],\n",
        "                   [3, 6, 9]])\n",
        "print(arr_2d.shape)"
      ],
      "metadata": {
        "colab": {
          "base_uri": "https://localhost:8080/"
        },
        "id": "P_no380q0l2x",
        "outputId": "ded88672-df72-4772-8bfd-ae1c7f5133e3"
      },
      "execution_count": 8,
      "outputs": [
        {
          "output_type": "stream",
          "name": "stdout",
          "text": [
            "(2, 3)\n"
          ]
        }
      ]
    },
    {
      "cell_type": "code",
      "source": [
        "import numpy as np\n",
        "\n",
        "arr_2d = np.array([[10, 20, 30],\n",
        "                   [3, 6, 9]])\n",
        "print(arr_2d.size)"
      ],
      "metadata": {
        "colab": {
          "base_uri": "https://localhost:8080/"
        },
        "id": "cxqI24Fd3ZZV",
        "outputId": "3f8c1429-7284-4c62-9d21-cc94248a1a79"
      },
      "execution_count": 9,
      "outputs": [
        {
          "output_type": "stream",
          "name": "stdout",
          "text": [
            "6\n"
          ]
        }
      ]
    },
    {
      "cell_type": "code",
      "source": [],
      "metadata": {
        "id": "7jYYtLRe35Xn"
      },
      "execution_count": null,
      "outputs": []
    }
  ]
}