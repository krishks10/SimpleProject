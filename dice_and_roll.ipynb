{
  "nbformat": 4,
  "nbformat_minor": 0,
  "metadata": {
    "colab": {
      "provenance": [],
      "authorship_tag": "ABX9TyM19e0soSgfaXWgKQFfnzEm",
      "include_colab_link": true
    },
    "kernelspec": {
      "name": "python3",
      "display_name": "Python 3"
    },
    "language_info": {
      "name": "python"
    }
  },
  "cells": [
    {
      "cell_type": "markdown",
      "metadata": {
        "id": "view-in-github",
        "colab_type": "text"
      },
      "source": [
        "<a href=\"https://colab.research.google.com/github/krishks10/SimpleProject/blob/main/dice_and_roll.ipynb\" target=\"_parent\"><img src=\"https://colab.research.google.com/assets/colab-badge.svg\" alt=\"Open In Colab\"/></a>"
      ]
    },
    {
      "cell_type": "code",
      "execution_count": 4,
      "metadata": {
        "id": "Y5DrudwGV28T",
        "colab": {
          "base_uri": "https://localhost:8080/"
        },
        "outputId": "caf5e067-4263-4475-8157-a8353b04d7eb"
      },
      "outputs": [
        {
          "output_type": "stream",
          "name": "stdout",
          "text": [
            "Enter the no. of players (2-4): 3\n",
            "\n",
            "Player number 1 turn has just started!\n",
            "Total score: 0 \n",
            "\n",
            "Would you like to roll (y)? y\n",
            "You rolled a 1! Turn done!\n",
            "\n",
            "Player number 2 turn has just started!\n",
            "Total score: 0 \n",
            "\n",
            "Would you like to roll (y)? 6\n",
            "\n",
            "Player number 3 turn has just started!\n",
            "Total score: 0 \n",
            "\n",
            "Would you like to roll (y)? y\n",
            "You rolled a: 3\n",
            "Ypur score is  3\n",
            "Your total score is: 3\n",
            "Would you like to roll (y)? y\n",
            "You rolled a: 6\n",
            "Ypur score is  9\n",
            "Your total score is: 12\n",
            "Would you like to roll (y)? y\n",
            "You rolled a: 4\n",
            "Ypur score is  13\n",
            "Your total score is: 25\n",
            "Would you like to roll (y)? y\n",
            "You rolled a: 5\n",
            "Ypur score is  18\n",
            "Your total score is: 43\n",
            "Would you like to roll (y)? y\n",
            "You rolled a: 2\n",
            "Ypur score is  20\n",
            "Your total score is: 63\n",
            "Would you like to roll (y)? y\n",
            "You rolled a: 2\n",
            "Ypur score is  22\n",
            "Your total score is: 85\n",
            "Would you like to roll (y)? y\n",
            "You rolled a 1! Turn done!\n",
            "Player number 3 is the winner with a score of: 85\n"
          ]
        }
      ],
      "source": [
        "import random\n",
        "\n",
        "def roll():\n",
        "    min_value = 1\n",
        "    max_value = 6\n",
        "    roll = random.randint(min_value, max_value)\n",
        "\n",
        "    return roll\n",
        "\n",
        "while True:\n",
        "    players = input(\"Enter the no. of players (2-4): \")\n",
        "    if players.isdigit():\n",
        "        players = int(players)\n",
        "        if 2 <= players <= 4:\n",
        "            break\n",
        "        else:\n",
        "            print(\"Must be between 2 - 4 players.\")\n",
        "    else:\n",
        "        print(\"Invalid, try again. \")\n",
        "\n",
        "max_score = 50\n",
        "player_scores = [0 for _ in range(players)]\n",
        "\n",
        "while max(player_scores)<max_score:\n",
        "    for player_idx in range(players):\n",
        "        print(\"\\nPlayer number\", player_idx + 1, \"turn has just started!\")\n",
        "        print(\"Total score:\", player_scores[player_idx], \"\\n\")\n",
        "        current_score = 0\n",
        "\n",
        "\n",
        "        while True:\n",
        "          should_roll = input(\"Would you like to roll (y)? \")\n",
        "          if should_roll.lower() != \"y\":\n",
        "              break\n",
        "\n",
        "          value = roll()\n",
        "          if value == 1:\n",
        "              print(\"You rolled a 1! Turn done!\")\n",
        "              current_score = 0\n",
        "              break\n",
        "          else:\n",
        "              current_score += value\n",
        "              print(\"You rolled a:\", value)\n",
        "\n",
        "          print(\"Your score is \", current_score)\n",
        "\n",
        "          player_scores[player_idx] += current_score\n",
        "          print(\"Your total score is:\", player_scores[player_idx])\n",
        "\n",
        "max_score = max(player_scores)\n",
        "winning_idx = player_scores.index(max_score)\n",
        "print(\"Player number\", winning_idx + 1, \"is the winner with a score of:\", max_score)"
      ]
    }
  ]
}