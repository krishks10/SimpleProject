{
  "nbformat": 4,
  "nbformat_minor": 0,
  "metadata": {
    "colab": {
      "provenance": [],
      "authorship_tag": "ABX9TyOOJ0bKVM/pim8h1WX6nBXb",
      "include_colab_link": true
    },
    "kernelspec": {
      "name": "python3",
      "display_name": "Python 3"
    },
    "language_info": {
      "name": "python"
    }
  },
  "cells": [
    {
      "cell_type": "markdown",
      "metadata": {
        "id": "view-in-github",
        "colab_type": "text"
      },
      "source": [
        "<a href=\"https://colab.research.google.com/github/krishks10/SimpleProject/blob/main/RockPaperScissor.ipynb\" target=\"_parent\"><img src=\"https://colab.research.google.com/assets/colab-badge.svg\" alt=\"Open In Colab\"/></a>"
      ]
    },
    {
      "cell_type": "code",
      "execution_count": 3,
      "metadata": {
        "colab": {
          "base_uri": "https://localhost:8080/"
        },
        "id": "PTR9RGdHXlP8",
        "outputId": "e48349fd-9a81-4fc8-afa8-da0d6be2dc84"
      },
      "outputs": [
        {
          "output_type": "stream",
          "name": "stdout",
          "text": [
            "Enter your choice (r/p/s): p\n",
            "Computer chose Rocks\n",
            "You chose Paper\n",
            "You win!\n",
            "Draw\n"
          ]
        }
      ],
      "source": [
        "import random\n",
        "\n",
        "computer = random.choice([-1, 0 , 1])\n",
        "youstr = input(\"Enter your choice (r/p/s): \")\n",
        "youDict = {\"r\":-1, \"p\":0, \"s\" : 1}\n",
        "reverseDict = {-1 : \"Rocks\", 1 : \"Scissor\", 0 : \"Paper\"}\n",
        "\n",
        "you = youDict[youstr]\n",
        "\n",
        "print(f\"Computer chose {reverseDict[computer]}\")\n",
        "print(f\"You chose {reverseDict[you]}\")\n",
        "\n",
        "if(computer ==-1 and you ==1):\n",
        "    print(\"You lose!\")\n",
        "\n",
        "elif(computer ==-1 and you ==0):\n",
        "    print(\"You win!\")\n",
        "\n",
        "if(computer ==1 and you ==-1):\n",
        "    print(\"You win!\")\n",
        "\n",
        "elif(computer ==1 and you ==0):\n",
        "    print(\"You lose!\")\n",
        "\n",
        "if(computer ==0 and you ==-1):\n",
        "    print(\"You lose!\")\n",
        "\n",
        "elif(computer ==0 and you ==1):\n",
        "    print(\"You win!\")\n",
        "\n",
        "else:\n",
        "    print(\"Draw\")"
      ]
    }
  ]
}