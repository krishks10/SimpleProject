{
  "nbformat": 4,
  "nbformat_minor": 0,
  "metadata": {
    "colab": {
      "provenance": [],
      "authorship_tag": "ABX9TyOSLwKoYR9dyqWA4kP/Kwr8",
      "include_colab_link": true
    },
    "kernelspec": {
      "name": "python3",
      "display_name": "Python 3"
    },
    "language_info": {
      "name": "python"
    }
  },
  "cells": [
    {
      "cell_type": "markdown",
      "metadata": {
        "id": "view-in-github",
        "colab_type": "text"
      },
      "source": [
        "<a href=\"https://colab.research.google.com/github/krishks10/SimpleProject/blob/main/Untitled5.ipynb\" target=\"_parent\"><img src=\"https://colab.research.google.com/assets/colab-badge.svg\" alt=\"Open In Colab\"/></a>"
      ]
    },
    {
      "cell_type": "code",
      "execution_count": 6,
      "metadata": {
        "id": "AVUU_J2Ij1MJ",
        "colab": {
          "base_uri": "https://localhost:8080/"
        },
        "outputId": "12975d82-4eac-451c-aa27-d26bf19d0a87"
      },
      "outputs": [
        {
          "output_type": "stream",
          "name": "stdout",
          "text": [
            "Enter your choices\n",
            " Rock, Paper, Scissor (r/p/s): r\n",
            "You Lose\n",
            "You chose r\n",
            "Computer chose p\n"
          ]
        }
      ],
      "source": [
        "import random\n",
        "\n",
        "choices = ['r', 'p', 's']\n",
        "user_choice =   (input(\"Enter your choices\\n Rock, Paper, Scissor (r/p/s): \")).lower()\n",
        "if user_choice not in choices:\n",
        "    print(\"Invalid Choice\")\n",
        "computer_choice = random.choice(choices)\n",
        "if user_choice == computer_choice:\n",
        "    print(\"Draw\")\n",
        "elif user_choice == 'r' and computer_choice == 's':\n",
        "    print(\"You Win\")\n",
        "elif user_choice == 'p' and computer_choice == 'r':\n",
        "    print(\"You Win\")\n",
        "elif user_choice == 's' and computer_choice == 'p':\n",
        "    print(\"You Win\")\n",
        "else:\n",
        "    print(\"You Lose\")\n",
        "print(f'You chose ' + user_choice)\n",
        "print(f'Computer chose ' + computer_choice)"
      ]
    }
  ]
}