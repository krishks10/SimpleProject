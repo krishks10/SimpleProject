{
  "nbformat": 4,
  "nbformat_minor": 0,
  "metadata": {
    "colab": {
      "provenance": [],
      "authorship_tag": "ABX9TyO4QsGXDj+uamVhUbV5ly62",
      "include_colab_link": true
    },
    "kernelspec": {
      "name": "python3",
      "display_name": "Python 3"
    },
    "language_info": {
      "name": "python"
    }
  },
  "cells": [
    {
      "cell_type": "markdown",
      "metadata": {
        "id": "view-in-github",
        "colab_type": "text"
      },
      "source": [
        "<a href=\"https://colab.research.google.com/github/krishks10/SimpleProject/blob/main/Menu.ipynb\" target=\"_parent\"><img src=\"https://colab.research.google.com/assets/colab-badge.svg\" alt=\"Open In Colab\"/></a>"
      ]
    },
    {
      "cell_type": "code",
      "execution_count": 8,
      "metadata": {
        "id": "mMJhuB7zghP2",
        "colab": {
          "base_uri": "https://localhost:8080/"
        },
        "outputId": "181b47ec-499c-4d34-a1ba-7c7ec15e2fb6"
      },
      "outputs": [
        {
          "output_type": "stream",
          "name": "stdout",
          "text": [
            "Welcome to Menu\n",
            "Pizza: Rs40\n",
            "Pasta: Rs50\n",
            "Salad: Rs60\n",
            "Burger: Rs70\n",
            "Icecream: Rs80\n",
            "Coffee: Rs90\n",
            "Enter the first item: Burger\n",
            "Your item Burger has been added to your order\n",
            "Do you want to order anything else? (yes/no): no\n",
            "The total amount of items to pay is 70\n"
          ]
        }
      ],
      "source": [
        "menu = {\n",
        "    'Pizza':40,\n",
        "    'Pasta':50,\n",
        "    'Salad':60,\n",
        "    'Burger':70,\n",
        "    'Icecream':80,\n",
        "    'Coffee':90,\n",
        "}\n",
        "\n",
        "print(\"Welcome to Menu\")\n",
        "print(\"Pizza: Rs40\")\n",
        "print(\"Pasta: Rs50\")\n",
        "print(\"Salad: Rs60\")\n",
        "print(\"Burger: Rs70\")\n",
        "print(\"Icecream: Rs80\")\n",
        "print(\"Coffee: Rs90\")\n",
        "\n",
        "order_total = 0\n",
        "\n",
        "item_1 = input(\"Enter the first item: \")\n",
        "if item_1 in menu:\n",
        "    order_total += menu[item_1]\n",
        "    print(f\"Your item {item_1} has been added to your order\")\n",
        "else:\n",
        "    print(\"Invalid item\")\n",
        "another_order = input(\"Do you want to order anything else? (yes/no): \")\n",
        "if another_order == \"yes\":\n",
        "    item_2 = input(\"Enter the second item: \")\n",
        "    if item_2 in menu:\n",
        "        order_total += menu[item_2]\n",
        "        print(f\"Your item {item_2} has been added to your order\")\n",
        "    else:\n",
        "        print(\"Invalid item\")\n",
        "\n",
        "print(f\"The total amount of items to pay is {order_total}\")"
      ]
    }
  ]
}