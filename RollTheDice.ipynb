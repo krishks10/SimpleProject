{
  "nbformat": 4,
  "nbformat_minor": 0,
  "metadata": {
    "colab": {
      "provenance": [],
      "authorship_tag": "ABX9TyNI6CZ2nn56IOSnoN5DeXhi",
      "include_colab_link": true
    },
    "kernelspec": {
      "name": "python3",
      "display_name": "Python 3"
    },
    "language_info": {
      "name": "python"
    }
  },
  "cells": [
    {
      "cell_type": "markdown",
      "metadata": {
        "id": "view-in-github",
        "colab_type": "text"
      },
      "source": [
        "<a href=\"https://colab.research.google.com/github/krishks10/SimpleProject/blob/main/RollTheDice.ipynb\" target=\"_parent\"><img src=\"https://colab.research.google.com/assets/colab-badge.svg\" alt=\"Open In Colab\"/></a>"
      ]
    },
    {
      "cell_type": "code",
      "source": [
        "import random\n",
        "\n",
        "while True:\n",
        "  choice = input('Roll the dice? (y/n): ').lower()\n",
        "  if choice == 'y' :\n",
        "      die1 = random.randint(1, 6)\n",
        "      die2 = random.randint(1, 6)\n",
        "      print(f'({die1}, {die2})')\n",
        "  elif choice == 'n' :\n",
        "      print('Goodbye!')\n",
        "      break\n",
        "  else:\n",
        "      print('Invalid choice!')"
      ],
      "metadata": {
        "colab": {
          "base_uri": "https://localhost:8080/"
        },
        "id": "wlELEP9MARKK",
        "outputId": "119777fa-bdfe-4c1a-a359-337969913d61"
      },
      "execution_count": 14,
      "outputs": [
        {
          "output_type": "stream",
          "name": "stdout",
          "text": [
            "Roll the dice? (y/n): u\n",
            "Invalid choice!\n",
            "Roll the dice? (y/n): n\n",
            "Goodbye!\n"
          ]
        }
      ]
    }
  ]
}